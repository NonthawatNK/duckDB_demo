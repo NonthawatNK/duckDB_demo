{
  "nbformat": 4,
  "nbformat_minor": 0,
  "metadata": {
    "colab": {
      "provenance": [],
      "include_colab_link": true
    },
    "kernelspec": {
      "name": "python3",
      "display_name": "Python 3"
    },
    "language_info": {
      "name": "python"
    }
  },
  "cells": [
    {
      "cell_type": "markdown",
      "metadata": {
        "id": "view-in-github",
        "colab_type": "text"
      },
      "source": [
        "<a href=\"https://colab.research.google.com/github/NonthawatNK/duckDB_demo/blob/main/DuckDB_Demo.ipynb\" target=\"_parent\"><img src=\"https://colab.research.google.com/assets/colab-badge.svg\" alt=\"Open In Colab\"/></a>"
      ]
    },
    {
      "cell_type": "markdown",
      "source": [
        "# DuckDB Demo 🦆"
      ],
      "metadata": {
        "id": "X-MIPinOVQbs"
      }
    },
    {
      "cell_type": "code",
      "source": [
        "!pip install duckdb #optional: Colab มีให้อยู่แล้ว"
      ],
      "metadata": {
        "colab": {
          "base_uri": "https://localhost:8080/"
        },
        "id": "GF_MnufEQ0Da",
        "outputId": "8cdff69b-b507-4575-fc0c-6e8ec4f1ea35"
      },
      "execution_count": 1,
      "outputs": [
        {
          "output_type": "stream",
          "name": "stdout",
          "text": [
            "Requirement already satisfied: duckdb in /usr/local/lib/python3.10/dist-packages (0.9.2)\n"
          ]
        }
      ]
    },
    {
      "cell_type": "code",
      "execution_count": 2,
      "metadata": {
        "id": "jYMHlumTVPm_"
      },
      "outputs": [],
      "source": [
        "import duckdb"
      ]
    },
    {
      "cell_type": "markdown",
      "source": [
        "Connect ไปยัง DuckDB หรือสร้าง connection ใหม่"
      ],
      "metadata": {
        "id": "-3PYJSWiZUxN"
      }
    },
    {
      "cell_type": "code",
      "source": [
        "connection = duckdb.connect()"
      ],
      "metadata": {
        "id": "uos19nY2VW_M"
      },
      "execution_count": 5,
      "outputs": []
    },
    {
      "cell_type": "markdown",
      "source": [
        "# Output format: รูปแบบการ output ข้อมูล"
      ],
      "metadata": {
        "id": "LvsMtnucWhFj"
      }
    },
    {
      "cell_type": "markdown",
      "source": [
        "ตัวอย่างใน part นี้ดัดแปลงจาก https://www.datacamp.com/blog/an-introduction-to-duckdb-what-is-it-and-why-should-you-use-it"
      ],
      "metadata": {
        "id": "bOqYKss4WpOk"
      }
    },
    {
      "cell_type": "markdown",
      "source": [
        "`show()` จะแสดงผลลัพธ์เป็นตารางออกมา"
      ],
      "metadata": {
        "id": "hIxCXn_wWR9g"
      }
    },
    {
      "cell_type": "code",
      "source": [
        "duckdb.sql('SELECT 42').show()"
      ],
      "metadata": {
        "colab": {
          "base_uri": "https://localhost:8080/"
        },
        "id": "nePMLHGuWA2j",
        "outputId": "ae594eb8-c0e7-4538-94c3-e4006e98640b"
      },
      "execution_count": 4,
      "outputs": [
        {
          "output_type": "stream",
          "name": "stdout",
          "text": [
            "┌───────┐\n",
            "│  42   │\n",
            "│ int32 │\n",
            "├───────┤\n",
            "│    42 │\n",
            "└───────┘\n",
            "\n"
          ]
        }
      ]
    },
    {
      "cell_type": "markdown",
      "source": [
        "`fetchall()` จะได้ผลลัพธ์เป็น list ของ tuple"
      ],
      "metadata": {
        "id": "mlnabsWKWLW7"
      }
    },
    {
      "cell_type": "code",
      "source": [
        "results = duckdb.sql('SELECT 42').fetchall()\n",
        "print(results)"
      ],
      "metadata": {
        "colab": {
          "base_uri": "https://localhost:8080/"
        },
        "id": "2JPYODtrWFP7",
        "outputId": "8ed4774a-1fe5-4454-82f8-3552158918da"
      },
      "execution_count": 6,
      "outputs": [
        {
          "output_type": "stream",
          "name": "stdout",
          "text": [
            "[(42,)]\n"
          ]
        }
      ]
    },
    {
      "cell_type": "code",
      "source": [
        "type(results)"
      ],
      "metadata": {
        "colab": {
          "base_uri": "https://localhost:8080/"
        },
        "id": "liOPPWQeXKVm",
        "outputId": "741e3ee8-7945-40b5-d54f-3d525d10d02c"
      },
      "execution_count": 7,
      "outputs": [
        {
          "output_type": "execute_result",
          "data": {
            "text/plain": [
              "list"
            ]
          },
          "metadata": {},
          "execution_count": 7
        }
      ]
    },
    {
      "cell_type": "code",
      "source": [
        "results_df = duckdb.sql('SELECT 42').df()\n",
        "print(results)"
      ],
      "metadata": {
        "colab": {
          "base_uri": "https://localhost:8080/"
        },
        "id": "JilU6IzVWJog",
        "outputId": "3155c71d-07ab-4723-848a-6a9617c2e812"
      },
      "execution_count": 8,
      "outputs": [
        {
          "output_type": "stream",
          "name": "stdout",
          "text": [
            "[(42,)]\n"
          ]
        }
      ]
    },
    {
      "cell_type": "code",
      "source": [
        "type(results_df)"
      ],
      "metadata": {
        "colab": {
          "base_uri": "https://localhost:8080/",
          "height": 204
        },
        "id": "GyYIlI4OXDrR",
        "outputId": "1796d4d1-2c18-40a6-9eb0-1fc27a12fb7c"
      },
      "execution_count": 9,
      "outputs": [
        {
          "output_type": "execute_result",
          "data": {
            "text/plain": [
              "pandas.core.frame.DataFrame"
            ],
            "text/html": [
              "<div style=\"max-width:800px; border: 1px solid var(--colab-border-color);\"><style>\n",
              "      pre.function-repr-contents {\n",
              "        overflow-x: auto;\n",
              "        padding: 8px 12px;\n",
              "        max-height: 500px;\n",
              "      }\n",
              "\n",
              "      pre.function-repr-contents.function-repr-contents-collapsed {\n",
              "        cursor: pointer;\n",
              "        max-height: 100px;\n",
              "      }\n",
              "    </style>\n",
              "    <pre style=\"white-space: initial; background:\n",
              "         var(--colab-secondary-surface-color); padding: 8px 12px;\n",
              "         border-bottom: 1px solid var(--colab-border-color);\"><b>pandas.core.frame.DataFrame</b><br/>def __init__(data=None, index: Axes | None=None, columns: Axes | None=None, dtype: Dtype | None=None, copy: bool | None=None) -&gt; None</pre><pre class=\"function-repr-contents function-repr-contents-collapsed\" style=\"\"><a class=\"filepath\" style=\"display:none\" href=\"#\">/usr/local/lib/python3.10/dist-packages/pandas/core/frame.py</a>Two-dimensional, size-mutable, potentially heterogeneous tabular data.\n",
              "\n",
              "Data structure also contains labeled axes (rows and columns).\n",
              "Arithmetic operations align on both row and column labels. Can be\n",
              "thought of as a dict-like container for Series objects. The primary\n",
              "pandas data structure.\n",
              "\n",
              "Parameters\n",
              "----------\n",
              "data : ndarray (structured or homogeneous), Iterable, dict, or DataFrame\n",
              "    Dict can contain Series, arrays, constants, dataclass or list-like objects. If\n",
              "    data is a dict, column order follows insertion-order. If a dict contains Series\n",
              "    which have an index defined, it is aligned by its index.\n",
              "\n",
              "    .. versionchanged:: 0.25.0\n",
              "       If data is a list of dicts, column order follows insertion-order.\n",
              "\n",
              "index : Index or array-like\n",
              "    Index to use for resulting frame. Will default to RangeIndex if\n",
              "    no indexing information part of input data and no index provided.\n",
              "columns : Index or array-like\n",
              "    Column labels to use for resulting frame when data does not have them,\n",
              "    defaulting to RangeIndex(0, 1, 2, ..., n). If data contains column labels,\n",
              "    will perform column selection instead.\n",
              "dtype : dtype, default None\n",
              "    Data type to force. Only a single dtype is allowed. If None, infer.\n",
              "copy : bool or None, default None\n",
              "    Copy data from inputs.\n",
              "    For dict data, the default of None behaves like ``copy=True``.  For DataFrame\n",
              "    or 2d ndarray input, the default of None behaves like ``copy=False``.\n",
              "    If data is a dict containing one or more Series (possibly of different dtypes),\n",
              "    ``copy=False`` will ensure that these inputs are not copied.\n",
              "\n",
              "    .. versionchanged:: 1.3.0\n",
              "\n",
              "See Also\n",
              "--------\n",
              "DataFrame.from_records : Constructor from tuples, also record arrays.\n",
              "DataFrame.from_dict : From dicts of Series, arrays, or dicts.\n",
              "read_csv : Read a comma-separated values (csv) file into DataFrame.\n",
              "read_table : Read general delimited file into DataFrame.\n",
              "read_clipboard : Read text from clipboard into DataFrame.\n",
              "\n",
              "Notes\n",
              "-----\n",
              "Please reference the :ref:`User Guide &lt;basics.dataframe&gt;` for more information.\n",
              "\n",
              "Examples\n",
              "--------\n",
              "Constructing DataFrame from a dictionary.\n",
              "\n",
              "&gt;&gt;&gt; d = {&#x27;col1&#x27;: [1, 2], &#x27;col2&#x27;: [3, 4]}\n",
              "&gt;&gt;&gt; df = pd.DataFrame(data=d)\n",
              "&gt;&gt;&gt; df\n",
              "   col1  col2\n",
              "0     1     3\n",
              "1     2     4\n",
              "\n",
              "Notice that the inferred dtype is int64.\n",
              "\n",
              "&gt;&gt;&gt; df.dtypes\n",
              "col1    int64\n",
              "col2    int64\n",
              "dtype: object\n",
              "\n",
              "To enforce a single dtype:\n",
              "\n",
              "&gt;&gt;&gt; df = pd.DataFrame(data=d, dtype=np.int8)\n",
              "&gt;&gt;&gt; df.dtypes\n",
              "col1    int8\n",
              "col2    int8\n",
              "dtype: object\n",
              "\n",
              "Constructing DataFrame from a dictionary including Series:\n",
              "\n",
              "&gt;&gt;&gt; d = {&#x27;col1&#x27;: [0, 1, 2, 3], &#x27;col2&#x27;: pd.Series([2, 3], index=[2, 3])}\n",
              "&gt;&gt;&gt; pd.DataFrame(data=d, index=[0, 1, 2, 3])\n",
              "   col1  col2\n",
              "0     0   NaN\n",
              "1     1   NaN\n",
              "2     2   2.0\n",
              "3     3   3.0\n",
              "\n",
              "Constructing DataFrame from numpy ndarray:\n",
              "\n",
              "&gt;&gt;&gt; df2 = pd.DataFrame(np.array([[1, 2, 3], [4, 5, 6], [7, 8, 9]]),\n",
              "...                    columns=[&#x27;a&#x27;, &#x27;b&#x27;, &#x27;c&#x27;])\n",
              "&gt;&gt;&gt; df2\n",
              "   a  b  c\n",
              "0  1  2  3\n",
              "1  4  5  6\n",
              "2  7  8  9\n",
              "\n",
              "Constructing DataFrame from a numpy ndarray that has labeled columns:\n",
              "\n",
              "&gt;&gt;&gt; data = np.array([(1, 2, 3), (4, 5, 6), (7, 8, 9)],\n",
              "...                 dtype=[(&quot;a&quot;, &quot;i4&quot;), (&quot;b&quot;, &quot;i4&quot;), (&quot;c&quot;, &quot;i4&quot;)])\n",
              "&gt;&gt;&gt; df3 = pd.DataFrame(data, columns=[&#x27;c&#x27;, &#x27;a&#x27;])\n",
              "...\n",
              "&gt;&gt;&gt; df3\n",
              "   c  a\n",
              "0  3  1\n",
              "1  6  4\n",
              "2  9  7\n",
              "\n",
              "Constructing DataFrame from dataclass:\n",
              "\n",
              "&gt;&gt;&gt; from dataclasses import make_dataclass\n",
              "&gt;&gt;&gt; Point = make_dataclass(&quot;Point&quot;, [(&quot;x&quot;, int), (&quot;y&quot;, int)])\n",
              "&gt;&gt;&gt; pd.DataFrame([Point(0, 0), Point(0, 3), Point(2, 3)])\n",
              "   x  y\n",
              "0  0  0\n",
              "1  0  3\n",
              "2  2  3</pre>\n",
              "      <script>\n",
              "      if (google.colab.kernel.accessAllowed && google.colab.files && google.colab.files.view) {\n",
              "        for (const element of document.querySelectorAll('.filepath')) {\n",
              "          element.style.display = 'block'\n",
              "          element.onclick = (event) => {\n",
              "            event.preventDefault();\n",
              "            event.stopPropagation();\n",
              "            google.colab.files.view(element.textContent, 475);\n",
              "          };\n",
              "        }\n",
              "      }\n",
              "      for (const element of document.querySelectorAll('.function-repr-contents')) {\n",
              "        element.onclick = (event) => {\n",
              "          event.preventDefault();\n",
              "          event.stopPropagation();\n",
              "          element.classList.toggle('function-repr-contents-collapsed');\n",
              "        };\n",
              "      }\n",
              "      </script>\n",
              "      </div>"
            ]
          },
          "metadata": {},
          "execution_count": 9
        }
      ]
    },
    {
      "cell_type": "markdown",
      "source": [
        "# Read files: มาอ่านไฟล์กันเถอะ"
      ],
      "metadata": {
        "id": "xeYqxApbXAP-"
      }
    },
    {
      "cell_type": "markdown",
      "source": [
        "ใช้ Sample data จาก Git repository นี้ https://github.com/Teradata/kylo/tree/master/samples/sample-data\n",
        "\n",
        "แล้วเลือก Raw data เช่น\n",
        "\n",
        "**CSV:** userdata1.csv - userdata5.csv\n",
        "https://raw.githubusercontent.com/Teradata/kylo/master/samples/sample-data/csv/userdata1.csv\n",
        "\n",
        "**Parquet:** userdata1.parquet - userdata5.parquet\n",
        "https://raw.githubusercontent.com/Teradata/kylo/master/samples/sample-data/parquet/userdata1.parquet\n",
        "\n",
        "**JSON:** books1.json, colors.json\n",
        "https://raw.githubusercontent.com/Teradata/kylo/master/samples/sample-data/json/books1.json"
      ],
      "metadata": {
        "id": "7iKerifvZmiM"
      }
    },
    {
      "cell_type": "code",
      "source": [
        "user1 = duckdb.read_csv('https://raw.githubusercontent.com/Teradata/kylo/master/samples/sample-data/csv/userdata1.csv')\n",
        "user2 = duckdb.read_parquet('https://raw.githubusercontent.com/Teradata/kylo/master/samples/sample-data/parquet/userdata2.parquet')\n",
        "books = duckdb.read_json('https://raw.githubusercontent.com/Teradata/kylo/master/samples/sample-data/json/books1.json')\n",
        "colors = duckdb.read_json('https://raw.githubusercontent.com/Teradata/kylo/master/samples/sample-data/json/colors.json')"
      ],
      "metadata": {
        "id": "0IEGyauuWe9c"
      },
      "execution_count": 10,
      "outputs": []
    },
    {
      "cell_type": "markdown",
      "source": [
        "# ทดลอง Query ข้อมูล"
      ],
      "metadata": {
        "id": "fDjSOA2r5zBc"
      }
    },
    {
      "cell_type": "code",
      "source": [
        "duckdb.sql('SELECT * FROM user1 limit 10')     # directly query a CSV file"
      ],
      "metadata": {
        "colab": {
          "base_uri": "https://localhost:8080/"
        },
        "id": "IxiDGRxQkD0o",
        "outputId": "33aa6c9e-461c-4492-a3f9-7e78bba0a610"
      },
      "execution_count": 11,
      "outputs": [
        {
          "output_type": "execute_result",
          "data": {
            "text/plain": [
              "┌─────────────────────┬───────┬────────────┬───────────┬───┬────────────┬───────────┬──────────────────────┬──────────┐\n",
              "│  registration_dttm  │  id   │ first_name │ last_name │ … │ birthdate  │  salary   │        title         │ comments │\n",
              "│      timestamp      │ int64 │  varchar   │  varchar  │   │    date    │  double   │       varchar        │ varchar  │\n",
              "├─────────────────────┼───────┼────────────┼───────────┼───┼────────────┼───────────┼──────────────────────┼──────────┤\n",
              "│ 2016-02-03 07:55:29 │     1 │ Amanda     │ Jordan    │ … │ 1971-03-08 │  49756.53 │ Internal Auditor     │ 1E+02    │\n",
              "│ 2016-02-03 17:04:03 │     2 │ Albert     │ Freeman   │ … │ 1968-01-16 │ 150280.17 │ Accountant IV        │ NULL     │\n",
              "│ 2016-02-03 01:09:31 │     3 │ Evelyn     │ Morgan    │ … │ 1960-02-01 │ 144972.51 │ Structural Engineer  │ NULL     │\n",
              "│ 2016-02-03 12:36:21 │     4 │ Denise     │ Riley     │ … │ 1997-04-08 │  90263.05 │ Senior Cost Accoun…  │ NULL     │\n",
              "│ 2016-02-03 05:05:31 │     5 │ Carlos     │ Burns     │ … │ NULL       │      NULL │ NULL                 │ NULL     │\n",
              "│ 2016-02-03 07:22:34 │     6 │ Kathryn    │ White     │ … │ 1983-02-25 │  69227.11 │ Account Executive    │ NULL     │\n",
              "│ 2016-02-03 08:33:08 │     7 │ Samuel     │ Holmes    │ … │ 1987-12-18 │  14247.62 │ Senior Financial A…  │ NULL     │\n",
              "│ 2016-02-03 06:47:06 │     8 │ Harry      │ Howell    │ … │ 1962-03-01 │ 186469.43 │ Web Developer IV     │ NULL     │\n",
              "│ 2016-02-03 03:52:53 │     9 │ Jose       │ Foster    │ … │ 1992-03-27 │ 231067.84 │ Software Test Engi…  │ 1E+02    │\n",
              "│ 2016-02-03 18:29:47 │    10 │ Emily      │ Stewart   │ … │ 1997-01-28 │  27234.28 │ Health Coach IV      │ NULL     │\n",
              "├─────────────────────┴───────┴────────────┴───────────┴───┴────────────┴───────────┴──────────────────────┴──────────┤\n",
              "│ 10 rows                                                                                        13 columns (8 shown) │\n",
              "└─────────────────────────────────────────────────────────────────────────────────────────────────────────────────────┘"
            ]
          },
          "metadata": {},
          "execution_count": 11
        }
      ]
    },
    {
      "cell_type": "code",
      "source": [
        "user1.df().info()"
      ],
      "metadata": {
        "colab": {
          "base_uri": "https://localhost:8080/"
        },
        "id": "0fvtXoFwMaGA",
        "outputId": "0ba85cbc-23ee-4b2b-92cf-8beafa004eea"
      },
      "execution_count": 13,
      "outputs": [
        {
          "output_type": "stream",
          "name": "stdout",
          "text": [
            "<class 'pandas.core.frame.DataFrame'>\n",
            "RangeIndex: 1000 entries, 0 to 999\n",
            "Data columns (total 13 columns):\n",
            " #   Column             Non-Null Count  Dtype         \n",
            "---  ------             --------------  -----         \n",
            " 0   registration_dttm  1000 non-null   datetime64[ns]\n",
            " 1   id                 1000 non-null   int64         \n",
            " 2   first_name         984 non-null    object        \n",
            " 3   last_name          1000 non-null   object        \n",
            " 4   email              984 non-null    object        \n",
            " 5   gender             933 non-null    object        \n",
            " 6   ip_address         1000 non-null   object        \n",
            " 7   cc                 709 non-null    object        \n",
            " 8   country            1000 non-null   object        \n",
            " 9   birthdate          802 non-null    datetime64[ns]\n",
            " 10  salary             933 non-null    float64       \n",
            " 11  title              802 non-null    object        \n",
            " 12  comments           193 non-null    object        \n",
            "dtypes: datetime64[ns](2), float64(1), int64(1), object(9)\n",
            "memory usage: 101.7+ KB\n"
          ]
        }
      ]
    },
    {
      "cell_type": "code",
      "source": [
        "user1.df()\n"
      ],
      "metadata": {
        "colab": {
          "base_uri": "https://localhost:8080/",
          "height": 424
        },
        "id": "DisRbOr9hDZK",
        "outputId": "cc7b4d3b-8745-4c98-bb92-4b9338413bf2"
      },
      "execution_count": 14,
      "outputs": [
        {
          "output_type": "execute_result",
          "data": {
            "text/plain": [
              "      registration_dttm    id first_name last_name                     email  \\\n",
              "0   2016-02-03 07:55:29     1     Amanda    Jordan          ajordan0@com.com   \n",
              "1   2016-02-03 17:04:03     2     Albert   Freeman           afreeman1@is.gd   \n",
              "2   2016-02-03 01:09:31     3     Evelyn    Morgan   emorgan2@altervista.org   \n",
              "3   2016-02-03 12:36:21     4     Denise     Riley          driley3@gmpg.org   \n",
              "4   2016-02-03 05:05:31     5     Carlos     Burns  cburns4@miitbeian.gov.cn   \n",
              "..                  ...   ...        ...       ...                       ...   \n",
              "995 2016-02-03 10:30:59   996     Dennis    Harris      dharrisrn@eepurl.com   \n",
              "996 2016-02-03 17:16:53   997     Gloria  Hamilton    ghamiltonro@rambler.ru   \n",
              "997 2016-02-03 05:02:20   998      Nancy    Morris         nmorrisrp@ask.com   \n",
              "998 2016-02-03 02:41:32   999      Annie   Daniels    adanielsrq@squidoo.com   \n",
              "999 2016-02-03 09:52:18  1000      Julie     Meyer       jmeyerrr@flavors.me   \n",
              "\n",
              "     gender       ip_address                cc       country  birthdate  \\\n",
              "0    Female      1.197.201.2  6759521864920116     Indonesia 1971-03-08   \n",
              "1      Male   218.111.175.34              None        Canada 1968-01-16   \n",
              "2    Female     7.161.136.94  6767119071901597        Russia 1960-02-01   \n",
              "3    Female    140.35.109.83  3576031598965625         China 1997-04-08   \n",
              "4      None   169.113.235.40  5602256255204850  South Africa        NaT   \n",
              "..      ...              ...               ...           ...        ...   \n",
              "995    Male  178.180.111.236   374288806662929        Greece 1965-07-08   \n",
              "996  Female     71.50.39.137              None         China 1975-04-22   \n",
              "997    None    6.188.121.221  3553564071014997        Sweden 1979-05-01   \n",
              "998  Female    97.221.132.35    30424803513734         China 1991-10-09   \n",
              "999  Female    217.1.147.132   374288099198540         China        NaT   \n",
              "\n",
              "        salary                   title comments  \n",
              "0     49756.53        Internal Auditor    1E+02  \n",
              "1    150280.17           Accountant IV     None  \n",
              "2    144972.51     Structural Engineer     None  \n",
              "3     90263.05  Senior Cost Accountant     None  \n",
              "4          NaN                    None     None  \n",
              "..         ...                     ...      ...  \n",
              "995  263399.54                  Editor     None  \n",
              "996   83183.54   VP Product Management     None  \n",
              "997        NaN        Junior Executive     None  \n",
              "998   18433.85                  Editor        ​  \n",
              "999  222561.13                    None     None  \n",
              "\n",
              "[1000 rows x 13 columns]"
            ],
            "text/html": [
              "\n",
              "  <div id=\"df-7e64da0b-df7b-468a-b945-0c39f0330b72\" class=\"colab-df-container\">\n",
              "    <div>\n",
              "<style scoped>\n",
              "    .dataframe tbody tr th:only-of-type {\n",
              "        vertical-align: middle;\n",
              "    }\n",
              "\n",
              "    .dataframe tbody tr th {\n",
              "        vertical-align: top;\n",
              "    }\n",
              "\n",
              "    .dataframe thead th {\n",
              "        text-align: right;\n",
              "    }\n",
              "</style>\n",
              "<table border=\"1\" class=\"dataframe\">\n",
              "  <thead>\n",
              "    <tr style=\"text-align: right;\">\n",
              "      <th></th>\n",
              "      <th>registration_dttm</th>\n",
              "      <th>id</th>\n",
              "      <th>first_name</th>\n",
              "      <th>last_name</th>\n",
              "      <th>email</th>\n",
              "      <th>gender</th>\n",
              "      <th>ip_address</th>\n",
              "      <th>cc</th>\n",
              "      <th>country</th>\n",
              "      <th>birthdate</th>\n",
              "      <th>salary</th>\n",
              "      <th>title</th>\n",
              "      <th>comments</th>\n",
              "    </tr>\n",
              "  </thead>\n",
              "  <tbody>\n",
              "    <tr>\n",
              "      <th>0</th>\n",
              "      <td>2016-02-03 07:55:29</td>\n",
              "      <td>1</td>\n",
              "      <td>Amanda</td>\n",
              "      <td>Jordan</td>\n",
              "      <td>ajordan0@com.com</td>\n",
              "      <td>Female</td>\n",
              "      <td>1.197.201.2</td>\n",
              "      <td>6759521864920116</td>\n",
              "      <td>Indonesia</td>\n",
              "      <td>1971-03-08</td>\n",
              "      <td>49756.53</td>\n",
              "      <td>Internal Auditor</td>\n",
              "      <td>1E+02</td>\n",
              "    </tr>\n",
              "    <tr>\n",
              "      <th>1</th>\n",
              "      <td>2016-02-03 17:04:03</td>\n",
              "      <td>2</td>\n",
              "      <td>Albert</td>\n",
              "      <td>Freeman</td>\n",
              "      <td>afreeman1@is.gd</td>\n",
              "      <td>Male</td>\n",
              "      <td>218.111.175.34</td>\n",
              "      <td>None</td>\n",
              "      <td>Canada</td>\n",
              "      <td>1968-01-16</td>\n",
              "      <td>150280.17</td>\n",
              "      <td>Accountant IV</td>\n",
              "      <td>None</td>\n",
              "    </tr>\n",
              "    <tr>\n",
              "      <th>2</th>\n",
              "      <td>2016-02-03 01:09:31</td>\n",
              "      <td>3</td>\n",
              "      <td>Evelyn</td>\n",
              "      <td>Morgan</td>\n",
              "      <td>emorgan2@altervista.org</td>\n",
              "      <td>Female</td>\n",
              "      <td>7.161.136.94</td>\n",
              "      <td>6767119071901597</td>\n",
              "      <td>Russia</td>\n",
              "      <td>1960-02-01</td>\n",
              "      <td>144972.51</td>\n",
              "      <td>Structural Engineer</td>\n",
              "      <td>None</td>\n",
              "    </tr>\n",
              "    <tr>\n",
              "      <th>3</th>\n",
              "      <td>2016-02-03 12:36:21</td>\n",
              "      <td>4</td>\n",
              "      <td>Denise</td>\n",
              "      <td>Riley</td>\n",
              "      <td>driley3@gmpg.org</td>\n",
              "      <td>Female</td>\n",
              "      <td>140.35.109.83</td>\n",
              "      <td>3576031598965625</td>\n",
              "      <td>China</td>\n",
              "      <td>1997-04-08</td>\n",
              "      <td>90263.05</td>\n",
              "      <td>Senior Cost Accountant</td>\n",
              "      <td>None</td>\n",
              "    </tr>\n",
              "    <tr>\n",
              "      <th>4</th>\n",
              "      <td>2016-02-03 05:05:31</td>\n",
              "      <td>5</td>\n",
              "      <td>Carlos</td>\n",
              "      <td>Burns</td>\n",
              "      <td>cburns4@miitbeian.gov.cn</td>\n",
              "      <td>None</td>\n",
              "      <td>169.113.235.40</td>\n",
              "      <td>5602256255204850</td>\n",
              "      <td>South Africa</td>\n",
              "      <td>NaT</td>\n",
              "      <td>NaN</td>\n",
              "      <td>None</td>\n",
              "      <td>None</td>\n",
              "    </tr>\n",
              "    <tr>\n",
              "      <th>...</th>\n",
              "      <td>...</td>\n",
              "      <td>...</td>\n",
              "      <td>...</td>\n",
              "      <td>...</td>\n",
              "      <td>...</td>\n",
              "      <td>...</td>\n",
              "      <td>...</td>\n",
              "      <td>...</td>\n",
              "      <td>...</td>\n",
              "      <td>...</td>\n",
              "      <td>...</td>\n",
              "      <td>...</td>\n",
              "      <td>...</td>\n",
              "    </tr>\n",
              "    <tr>\n",
              "      <th>995</th>\n",
              "      <td>2016-02-03 10:30:59</td>\n",
              "      <td>996</td>\n",
              "      <td>Dennis</td>\n",
              "      <td>Harris</td>\n",
              "      <td>dharrisrn@eepurl.com</td>\n",
              "      <td>Male</td>\n",
              "      <td>178.180.111.236</td>\n",
              "      <td>374288806662929</td>\n",
              "      <td>Greece</td>\n",
              "      <td>1965-07-08</td>\n",
              "      <td>263399.54</td>\n",
              "      <td>Editor</td>\n",
              "      <td>None</td>\n",
              "    </tr>\n",
              "    <tr>\n",
              "      <th>996</th>\n",
              "      <td>2016-02-03 17:16:53</td>\n",
              "      <td>997</td>\n",
              "      <td>Gloria</td>\n",
              "      <td>Hamilton</td>\n",
              "      <td>ghamiltonro@rambler.ru</td>\n",
              "      <td>Female</td>\n",
              "      <td>71.50.39.137</td>\n",
              "      <td>None</td>\n",
              "      <td>China</td>\n",
              "      <td>1975-04-22</td>\n",
              "      <td>83183.54</td>\n",
              "      <td>VP Product Management</td>\n",
              "      <td>None</td>\n",
              "    </tr>\n",
              "    <tr>\n",
              "      <th>997</th>\n",
              "      <td>2016-02-03 05:02:20</td>\n",
              "      <td>998</td>\n",
              "      <td>Nancy</td>\n",
              "      <td>Morris</td>\n",
              "      <td>nmorrisrp@ask.com</td>\n",
              "      <td>None</td>\n",
              "      <td>6.188.121.221</td>\n",
              "      <td>3553564071014997</td>\n",
              "      <td>Sweden</td>\n",
              "      <td>1979-05-01</td>\n",
              "      <td>NaN</td>\n",
              "      <td>Junior Executive</td>\n",
              "      <td>None</td>\n",
              "    </tr>\n",
              "    <tr>\n",
              "      <th>998</th>\n",
              "      <td>2016-02-03 02:41:32</td>\n",
              "      <td>999</td>\n",
              "      <td>Annie</td>\n",
              "      <td>Daniels</td>\n",
              "      <td>adanielsrq@squidoo.com</td>\n",
              "      <td>Female</td>\n",
              "      <td>97.221.132.35</td>\n",
              "      <td>30424803513734</td>\n",
              "      <td>China</td>\n",
              "      <td>1991-10-09</td>\n",
              "      <td>18433.85</td>\n",
              "      <td>Editor</td>\n",
              "      <td>​</td>\n",
              "    </tr>\n",
              "    <tr>\n",
              "      <th>999</th>\n",
              "      <td>2016-02-03 09:52:18</td>\n",
              "      <td>1000</td>\n",
              "      <td>Julie</td>\n",
              "      <td>Meyer</td>\n",
              "      <td>jmeyerrr@flavors.me</td>\n",
              "      <td>Female</td>\n",
              "      <td>217.1.147.132</td>\n",
              "      <td>374288099198540</td>\n",
              "      <td>China</td>\n",
              "      <td>NaT</td>\n",
              "      <td>222561.13</td>\n",
              "      <td>None</td>\n",
              "      <td>None</td>\n",
              "    </tr>\n",
              "  </tbody>\n",
              "</table>\n",
              "<p>1000 rows × 13 columns</p>\n",
              "</div>\n",
              "    <div class=\"colab-df-buttons\">\n",
              "\n",
              "  <div class=\"colab-df-container\">\n",
              "    <button class=\"colab-df-convert\" onclick=\"convertToInteractive('df-7e64da0b-df7b-468a-b945-0c39f0330b72')\"\n",
              "            title=\"Convert this dataframe to an interactive table.\"\n",
              "            style=\"display:none;\">\n",
              "\n",
              "  <svg xmlns=\"http://www.w3.org/2000/svg\" height=\"24px\" viewBox=\"0 -960 960 960\">\n",
              "    <path d=\"M120-120v-720h720v720H120Zm60-500h600v-160H180v160Zm220 220h160v-160H400v160Zm0 220h160v-160H400v160ZM180-400h160v-160H180v160Zm440 0h160v-160H620v160ZM180-180h160v-160H180v160Zm440 0h160v-160H620v160Z\"/>\n",
              "  </svg>\n",
              "    </button>\n",
              "\n",
              "  <style>\n",
              "    .colab-df-container {\n",
              "      display:flex;\n",
              "      gap: 12px;\n",
              "    }\n",
              "\n",
              "    .colab-df-convert {\n",
              "      background-color: #E8F0FE;\n",
              "      border: none;\n",
              "      border-radius: 50%;\n",
              "      cursor: pointer;\n",
              "      display: none;\n",
              "      fill: #1967D2;\n",
              "      height: 32px;\n",
              "      padding: 0 0 0 0;\n",
              "      width: 32px;\n",
              "    }\n",
              "\n",
              "    .colab-df-convert:hover {\n",
              "      background-color: #E2EBFA;\n",
              "      box-shadow: 0px 1px 2px rgba(60, 64, 67, 0.3), 0px 1px 3px 1px rgba(60, 64, 67, 0.15);\n",
              "      fill: #174EA6;\n",
              "    }\n",
              "\n",
              "    .colab-df-buttons div {\n",
              "      margin-bottom: 4px;\n",
              "    }\n",
              "\n",
              "    [theme=dark] .colab-df-convert {\n",
              "      background-color: #3B4455;\n",
              "      fill: #D2E3FC;\n",
              "    }\n",
              "\n",
              "    [theme=dark] .colab-df-convert:hover {\n",
              "      background-color: #434B5C;\n",
              "      box-shadow: 0px 1px 3px 1px rgba(0, 0, 0, 0.15);\n",
              "      filter: drop-shadow(0px 1px 2px rgba(0, 0, 0, 0.3));\n",
              "      fill: #FFFFFF;\n",
              "    }\n",
              "  </style>\n",
              "\n",
              "    <script>\n",
              "      const buttonEl =\n",
              "        document.querySelector('#df-7e64da0b-df7b-468a-b945-0c39f0330b72 button.colab-df-convert');\n",
              "      buttonEl.style.display =\n",
              "        google.colab.kernel.accessAllowed ? 'block' : 'none';\n",
              "\n",
              "      async function convertToInteractive(key) {\n",
              "        const element = document.querySelector('#df-7e64da0b-df7b-468a-b945-0c39f0330b72');\n",
              "        const dataTable =\n",
              "          await google.colab.kernel.invokeFunction('convertToInteractive',\n",
              "                                                    [key], {});\n",
              "        if (!dataTable) return;\n",
              "\n",
              "        const docLinkHtml = 'Like what you see? Visit the ' +\n",
              "          '<a target=\"_blank\" href=https://colab.research.google.com/notebooks/data_table.ipynb>data table notebook</a>'\n",
              "          + ' to learn more about interactive tables.';\n",
              "        element.innerHTML = '';\n",
              "        dataTable['output_type'] = 'display_data';\n",
              "        await google.colab.output.renderOutput(dataTable, element);\n",
              "        const docLink = document.createElement('div');\n",
              "        docLink.innerHTML = docLinkHtml;\n",
              "        element.appendChild(docLink);\n",
              "      }\n",
              "    </script>\n",
              "  </div>\n",
              "\n",
              "\n",
              "<div id=\"df-95697606-5fd5-4096-9015-39bc33f4e6b0\">\n",
              "  <button class=\"colab-df-quickchart\" onclick=\"quickchart('df-95697606-5fd5-4096-9015-39bc33f4e6b0')\"\n",
              "            title=\"Suggest charts\"\n",
              "            style=\"display:none;\">\n",
              "\n",
              "<svg xmlns=\"http://www.w3.org/2000/svg\" height=\"24px\"viewBox=\"0 0 24 24\"\n",
              "     width=\"24px\">\n",
              "    <g>\n",
              "        <path d=\"M19 3H5c-1.1 0-2 .9-2 2v14c0 1.1.9 2 2 2h14c1.1 0 2-.9 2-2V5c0-1.1-.9-2-2-2zM9 17H7v-7h2v7zm4 0h-2V7h2v10zm4 0h-2v-4h2v4z\"/>\n",
              "    </g>\n",
              "</svg>\n",
              "  </button>\n",
              "\n",
              "<style>\n",
              "  .colab-df-quickchart {\n",
              "      --bg-color: #E8F0FE;\n",
              "      --fill-color: #1967D2;\n",
              "      --hover-bg-color: #E2EBFA;\n",
              "      --hover-fill-color: #174EA6;\n",
              "      --disabled-fill-color: #AAA;\n",
              "      --disabled-bg-color: #DDD;\n",
              "  }\n",
              "\n",
              "  [theme=dark] .colab-df-quickchart {\n",
              "      --bg-color: #3B4455;\n",
              "      --fill-color: #D2E3FC;\n",
              "      --hover-bg-color: #434B5C;\n",
              "      --hover-fill-color: #FFFFFF;\n",
              "      --disabled-bg-color: #3B4455;\n",
              "      --disabled-fill-color: #666;\n",
              "  }\n",
              "\n",
              "  .colab-df-quickchart {\n",
              "    background-color: var(--bg-color);\n",
              "    border: none;\n",
              "    border-radius: 50%;\n",
              "    cursor: pointer;\n",
              "    display: none;\n",
              "    fill: var(--fill-color);\n",
              "    height: 32px;\n",
              "    padding: 0;\n",
              "    width: 32px;\n",
              "  }\n",
              "\n",
              "  .colab-df-quickchart:hover {\n",
              "    background-color: var(--hover-bg-color);\n",
              "    box-shadow: 0 1px 2px rgba(60, 64, 67, 0.3), 0 1px 3px 1px rgba(60, 64, 67, 0.15);\n",
              "    fill: var(--button-hover-fill-color);\n",
              "  }\n",
              "\n",
              "  .colab-df-quickchart-complete:disabled,\n",
              "  .colab-df-quickchart-complete:disabled:hover {\n",
              "    background-color: var(--disabled-bg-color);\n",
              "    fill: var(--disabled-fill-color);\n",
              "    box-shadow: none;\n",
              "  }\n",
              "\n",
              "  .colab-df-spinner {\n",
              "    border: 2px solid var(--fill-color);\n",
              "    border-color: transparent;\n",
              "    border-bottom-color: var(--fill-color);\n",
              "    animation:\n",
              "      spin 1s steps(1) infinite;\n",
              "  }\n",
              "\n",
              "  @keyframes spin {\n",
              "    0% {\n",
              "      border-color: transparent;\n",
              "      border-bottom-color: var(--fill-color);\n",
              "      border-left-color: var(--fill-color);\n",
              "    }\n",
              "    20% {\n",
              "      border-color: transparent;\n",
              "      border-left-color: var(--fill-color);\n",
              "      border-top-color: var(--fill-color);\n",
              "    }\n",
              "    30% {\n",
              "      border-color: transparent;\n",
              "      border-left-color: var(--fill-color);\n",
              "      border-top-color: var(--fill-color);\n",
              "      border-right-color: var(--fill-color);\n",
              "    }\n",
              "    40% {\n",
              "      border-color: transparent;\n",
              "      border-right-color: var(--fill-color);\n",
              "      border-top-color: var(--fill-color);\n",
              "    }\n",
              "    60% {\n",
              "      border-color: transparent;\n",
              "      border-right-color: var(--fill-color);\n",
              "    }\n",
              "    80% {\n",
              "      border-color: transparent;\n",
              "      border-right-color: var(--fill-color);\n",
              "      border-bottom-color: var(--fill-color);\n",
              "    }\n",
              "    90% {\n",
              "      border-color: transparent;\n",
              "      border-bottom-color: var(--fill-color);\n",
              "    }\n",
              "  }\n",
              "</style>\n",
              "\n",
              "  <script>\n",
              "    async function quickchart(key) {\n",
              "      const quickchartButtonEl =\n",
              "        document.querySelector('#' + key + ' button');\n",
              "      quickchartButtonEl.disabled = true;  // To prevent multiple clicks.\n",
              "      quickchartButtonEl.classList.add('colab-df-spinner');\n",
              "      try {\n",
              "        const charts = await google.colab.kernel.invokeFunction(\n",
              "            'suggestCharts', [key], {});\n",
              "      } catch (error) {\n",
              "        console.error('Error during call to suggestCharts:', error);\n",
              "      }\n",
              "      quickchartButtonEl.classList.remove('colab-df-spinner');\n",
              "      quickchartButtonEl.classList.add('colab-df-quickchart-complete');\n",
              "    }\n",
              "    (() => {\n",
              "      let quickchartButtonEl =\n",
              "        document.querySelector('#df-95697606-5fd5-4096-9015-39bc33f4e6b0 button');\n",
              "      quickchartButtonEl.style.display =\n",
              "        google.colab.kernel.accessAllowed ? 'block' : 'none';\n",
              "    })();\n",
              "  </script>\n",
              "</div>\n",
              "    </div>\n",
              "  </div>\n"
            ],
            "application/vnd.google.colaboratory.intrinsic+json": {
              "type": "dataframe",
              "summary": "{\n  \"name\": \"user1\",\n  \"rows\": 1000,\n  \"fields\": [\n    {\n      \"column\": \"registration_dttm\",\n      \"properties\": {\n        \"dtype\": \"date\",\n        \"min\": \"2016-02-03 00:01:14\",\n        \"max\": \"2016-02-03 23:59:55\",\n        \"num_unique_values\": 997,\n        \"samples\": [\n          \"2016-02-03 14:26:40\",\n          \"2016-02-03 00:29:54\",\n          \"2016-02-03 13:39:46\"\n        ],\n        \"semantic_type\": \"\",\n        \"description\": \"\"\n      }\n    },\n    {\n      \"column\": \"id\",\n      \"properties\": {\n        \"dtype\": \"number\",\n        \"std\": 288,\n        \"min\": 1,\n        \"max\": 1000,\n        \"num_unique_values\": 1000,\n        \"samples\": [\n          522,\n          738,\n          741\n        ],\n        \"semantic_type\": \"\",\n        \"description\": \"\"\n      }\n    },\n    {\n      \"column\": \"first_name\",\n      \"properties\": {\n        \"dtype\": \"category\",\n        \"num_unique_values\": 197,\n        \"samples\": [\n          \"Kathleen\",\n          \"Virginia\",\n          \"Stephen\"\n        ],\n        \"semantic_type\": \"\",\n        \"description\": \"\"\n      }\n    },\n    {\n      \"column\": \"last_name\",\n      \"properties\": {\n        \"dtype\": \"category\",\n        \"num_unique_values\": 247,\n        \"samples\": [\n          \"Murphy\",\n          \"Holmes\",\n          \"Harrison\"\n        ],\n        \"semantic_type\": \"\",\n        \"description\": \"\"\n      }\n    },\n    {\n      \"column\": \"email\",\n      \"properties\": {\n        \"dtype\": \"string\",\n        \"num_unique_values\": 984,\n        \"samples\": [\n          \"jmarshallhb@go.com\",\n          \"rsmithcq@bing.com\",\n          \"asimmonsko@ox.ac.uk\"\n        ],\n        \"semantic_type\": \"\",\n        \"description\": \"\"\n      }\n    },\n    {\n      \"column\": \"gender\",\n      \"properties\": {\n        \"dtype\": \"category\",\n        \"num_unique_values\": 6,\n        \"samples\": [\n          \"Female\",\n          \"Male\",\n          \"Obvious\"\n        ],\n        \"semantic_type\": \"\",\n        \"description\": \"\"\n      }\n    },\n    {\n      \"column\": \"ip_address\",\n      \"properties\": {\n        \"dtype\": \"string\",\n        \"num_unique_values\": 1000,\n        \"samples\": [\n          \"46.161.44.180\",\n          \"222.187.252.181\",\n          \"138.4.50.254\"\n        ],\n        \"semantic_type\": \"\",\n        \"description\": \"\"\n      }\n    },\n    {\n      \"column\": \"cc\",\n      \"properties\": {\n        \"dtype\": \"string\",\n        \"num_unique_values\": 709,\n        \"samples\": [\n          \"6771600305307320496\",\n          \"5641822678092207310\",\n          \"30094299512605\"\n        ],\n        \"semantic_type\": \"\",\n        \"description\": \"\"\n      }\n    },\n    {\n      \"column\": \"country\",\n      \"properties\": {\n        \"dtype\": \"category\",\n        \"num_unique_values\": 120,\n        \"samples\": [\n          \"Malaysia\",\n          \"Colombia\",\n          \"South Africa\"\n        ],\n        \"semantic_type\": \"\",\n        \"description\": \"\"\n      }\n    },\n    {\n      \"column\": \"birthdate\",\n      \"properties\": {\n        \"dtype\": \"date\",\n        \"min\": \"1955-01-19 00:00:00\",\n        \"max\": \"2001-01-10 00:00:00\",\n        \"num_unique_values\": 786,\n        \"samples\": [\n          \"1958-11-04 00:00:00\",\n          \"1957-09-06 00:00:00\",\n          \"1981-07-14 00:00:00\"\n        ],\n        \"semantic_type\": \"\",\n        \"description\": \"\"\n      }\n    },\n    {\n      \"column\": \"salary\",\n      \"properties\": {\n        \"dtype\": \"number\",\n        \"std\": 79793.3697202,\n        \"min\": 12380.49,\n        \"max\": 286592.99,\n        \"num_unique_values\": 933,\n        \"samples\": [\n          155424.22,\n          31026.94,\n          274295.42\n        ],\n        \"semantic_type\": \"\",\n        \"description\": \"\"\n      }\n    },\n    {\n      \"column\": \"title\",\n      \"properties\": {\n        \"dtype\": \"category\",\n        \"num_unique_values\": 180,\n        \"samples\": [\n          \"Environmental Tech\",\n          \"Payment Adjustment Coordinator\",\n          \"Budget/Accounting Analyst IV\"\n        ],\n        \"semantic_type\": \"\",\n        \"description\": \"\"\n      }\n    },\n    {\n      \"column\": \"comments\",\n      \"properties\": {\n        \"dtype\": \"category\",\n        \"num_unique_values\": 87,\n        \"samples\": [\n          \"\\uff40\\uff68(\\u00b4\\u2200\\uff40\\u2229\",\n          \"1E+02\",\n          \"\\u05d1\\u05bc\\u05b0\\u05e8\\u05b5\\u05d0\\u05e9\\u05c1\\u05b4\\u05d9\\u05ea, \\u05d1\\u05bc\\u05b8\\u05e8\\u05b8\\u05d0 \\u05d0\\u05b1\\u05dc\\u05b9\\u05d4\\u05b4\\u05d9\\u05dd, \\u05d0\\u05b5\\u05ea \\u05d4\\u05b7\\u05e9\\u05bc\\u05c1\\u05b8\\u05de\\u05b7\\u05d9\\u05b4\\u05dd, \\u05d5\\u05b0\\u05d0\\u05b5\\u05ea \\u05d4\\u05b8\\u05d0\\u05b8\\u05e8\\u05b6\\u05e5\"\n        ],\n        \"semantic_type\": \"\",\n        \"description\": \"\"\n      }\n    }\n  ]\n}"
            }
          },
          "metadata": {},
          "execution_count": 14
        }
      ]
    },
    {
      "cell_type": "code",
      "source": [
        "duckdb.sql(\"SELECT avg(salary) from user1 where user1.country = 'China'\")"
      ],
      "metadata": {
        "colab": {
          "base_uri": "https://localhost:8080/"
        },
        "id": "vZNJG_zlb1_p",
        "outputId": "c9fc91fc-834a-4d7a-cc51-a554f0415947"
      },
      "execution_count": 15,
      "outputs": [
        {
          "output_type": "execute_result",
          "data": {
            "text/plain": [
              "┌───────────────────┐\n",
              "│    avg(salary)    │\n",
              "│      double       │\n",
              "├───────────────────┤\n",
              "│ 157365.2456497175 │\n",
              "└───────────────────┘"
            ]
          },
          "metadata": {},
          "execution_count": 15
        }
      ]
    },
    {
      "cell_type": "code",
      "source": [
        "user2"
      ],
      "metadata": {
        "colab": {
          "base_uri": "https://localhost:8080/"
        },
        "id": "ZGRziZjzb-mO",
        "outputId": "0c70943a-c2f1-4c11-9d52-23b089f45cdb"
      },
      "execution_count": 16,
      "outputs": [
        {
          "output_type": "execute_result",
          "data": {
            "text/plain": [
              "┌─────────────────────┬───────┬────────────┬───┬────────────┬───────────┬──────────────────────┬──────────────────────┐\n",
              "│  registration_dttm  │  id   │ first_name │ … │ birthdate  │  salary   │        title         │       comments       │\n",
              "│      timestamp      │ int32 │  varchar   │   │  varchar   │  double   │       varchar        │       varchar        │\n",
              "├─────────────────────┼───────┼────────────┼───┼────────────┼───────────┼──────────────────────┼──────────────────────┤\n",
              "│ 2016-02-03 13:36:39 │     1 │ Donald     │ … │ 7/9/1972   │ 140249.37 │ Senior Financial A…  │                      │\n",
              "│ 2016-02-03 00:22:28 │     2 │ Walter     │ … │            │      NULL │                      │                      │\n",
              "│ 2016-02-03 18:29:04 │     3 │ Michelle   │ … │ 1/15/1964  │ 236219.26 │ Teacher              │                      │\n",
              "│ 2016-02-03 13:42:19 │     4 │ Lori       │ … │ 4/22/1988  │      NULL │ Nuclear Power Engi…  │                      │\n",
              "│ 2016-02-03 00:15:29 │     5 │ Howard     │ … │ 11/26/1998 │  50210.02 │ Senior Editor        │                      │\n",
              "│ 2016-02-03 10:49:07 │     6 │ Frances    │ … │ 3/27/1997  │  82175.77 │ Account Coordinator  │                      │\n",
              "│ 2016-02-03 19:44:12 │  NULL │ Steven     │ … │            │ 129582.61 │                      │                      │\n",
              "│ 2016-02-03 08:11:34 │     8 │ Louis      │ … │ 6/1/1992   │  90744.86 │ Product Engineer     │                      │\n",
              "│ 2016-02-03 23:56:51 │     9 │ Keith      │ … │ 12/30/1992 │   60618.9 │ Developer II         │                      │\n",
              "│ 2016-02-03 07:47:29 │    10 │ Wanda      │ … │            │ 137664.53 │                      │                      │\n",
              "│          ·          │     · │  ·         │ · │     ·      │        ·  │          ·           │          ·           │\n",
              "│          ·          │     · │  ·         │ · │     ·      │        ·  │          ·           │          ·           │\n",
              "│          ·          │     · │  ·         │ · │     ·      │        ·  │          ·           │          ·           │\n",
              "│ 2016-02-03 02:39:55 │   991 │ Amy        │ … │ 11/9/1982  │      NULL │ Systems Administra…  │                      │\n",
              "│ 2016-02-03 03:55:45 │   992 │ Joyce      │ … │ 7/31/1960  │  50526.45 │ Graphic Designer     │                      │\n",
              "│ 2016-02-03 01:06:44 │   993 │ Christina  │ … │ 10/30/1967 │  121659.5 │ Librarian            │                      │\n",
              "│ 2016-02-03 02:08:01 │   994 │ Earl       │ … │ 2/2/1981   │      NULL │ Speech Pathologist   │ ✋🏿 💪🏿 👐🏿 🙌🏿 👏🏿 🙏🏿…   │\n",
              "│ 2016-02-03 16:26:28 │   995 │            │ … │ 2/17/1980  │ 180088.74 │ Senior Editor        │                      │\n",
              "│ 2016-02-03 13:36:49 │   996 │ Carol      │ … │            │ 185421.82 │                      │ \"                    │\n",
              "│ 2016-02-03 04:39:01 │   997 │ Helen      │ … │            │ 279671.68 │                      │                      │\n",
              "│ 2016-02-03 00:33:54 │   998 │ Stephanie  │ … │            │ 112275.78 │                      │                      │\n",
              "│ 2016-02-03 00:15:08 │   999 │ Marie      │ … │ 3/25/1969  │  53564.76 │ Speech Pathologist   │                      │\n",
              "│ 2016-02-03 00:53:53 │  1000 │ Alice      │ … │            │  239858.7 │                      │                      │\n",
              "├─────────────────────┴───────┴────────────┴───┴────────────┴───────────┴──────────────────────┴──────────────────────┤\n",
              "│ 1000 rows (20 shown)                                                                           13 columns (7 shown) │\n",
              "└─────────────────────────────────────────────────────────────────────────────────────────────────────────────────────┘"
            ]
          },
          "metadata": {},
          "execution_count": 16
        }
      ]
    },
    {
      "cell_type": "code",
      "source": [
        "duckdb.sql('SELECT avg(salary) from user1')"
      ],
      "metadata": {
        "colab": {
          "base_uri": "https://localhost:8080/"
        },
        "id": "VPgq1iU43-D5",
        "outputId": "52401a47-2e85-4827-e9fb-3c535918b18c"
      },
      "execution_count": 17,
      "outputs": [
        {
          "output_type": "execute_result",
          "data": {
            "text/plain": [
              "┌────────────────────┐\n",
              "│    avg(salary)     │\n",
              "│       double       │\n",
              "├────────────────────┤\n",
              "│ 148911.96545551985 │\n",
              "└────────────────────┘"
            ]
          },
          "metadata": {},
          "execution_count": 17
        }
      ]
    },
    {
      "cell_type": "code",
      "source": [
        "duckdb.sql('SELECT avg(salary) from user2')"
      ],
      "metadata": {
        "colab": {
          "base_uri": "https://localhost:8080/"
        },
        "id": "Q8s_0wrV4XLE",
        "outputId": "c07250b9-70eb-4b97-cdda-e9b3361a8c1a"
      },
      "execution_count": 18,
      "outputs": [
        {
          "output_type": "execute_result",
          "data": {
            "text/plain": [
              "┌────────────────────┐\n",
              "│    avg(salary)     │\n",
              "│       double       │\n",
              "├────────────────────┤\n",
              "│ 154972.73812765945 │\n",
              "└────────────────────┘"
            ]
          },
          "metadata": {},
          "execution_count": 18
        }
      ]
    },
    {
      "cell_type": "code",
      "source": [
        "duckdb.sql('select * from books').df()"
      ],
      "metadata": {
        "id": "Qo5EUV3wa2ZZ",
        "colab": {
          "base_uri": "https://localhost:8080/",
          "height": 269
        },
        "outputId": "a350151c-c688-495e-9875-d293669f8fd9"
      },
      "execution_count": 19,
      "outputs": [
        {
          "output_type": "execute_result",
          "data": {
            "text/plain": [
              "               id        cat                                     name  \\\n",
              "0  978-0641723445       book                      The Lightning Thief   \n",
              "1  978-1423103349  paperback                      The Sea of Monsters   \n",
              "2  978-1857995879  paperback  Sophie's World : The Greek Philosophers   \n",
              "3  978-1923988177  paperback         Lucene in Action, Second Edition   \n",
              "4  978-1933988077  paperback         Lucene in Action, Second Edition   \n",
              "5  968-1933988177  paperback         Lucene in Action, Second Edition   \n",
              "6  978-2933988077  paperback         Lucene in Action, Second Edition   \n",
              "\n",
              "               author                         series_t  sequence_i  genre_s  \\\n",
              "0        Rick Riordan  Percy Jackson and the Olympians           1  fantasy   \n",
              "1        Rick Riordan  Percy Jackson and the Olympians           2  fantasy   \n",
              "2     Jostein Gaarder                             None           1  fantasy   \n",
              "3  Michael McCandless                             None           1       IT   \n",
              "4  Michael McCandless                             None           1       IT   \n",
              "5  Michael McCandless                             None           1       IT   \n",
              "6  Michael McCandless                             None           1       IT   \n",
              "\n",
              "   inStock  price  pages_i  \n",
              "0     True  12.50      384  \n",
              "1     True   6.49      304  \n",
              "2     True   3.07       64  \n",
              "3     True  30.50      475  \n",
              "4     True  30.50      475  \n",
              "5     True  30.50      300  \n",
              "6     True  30.50      475  "
            ],
            "text/html": [
              "\n",
              "  <div id=\"df-21688fa7-c03d-442e-a4fc-ef325dfceb74\" class=\"colab-df-container\">\n",
              "    <div>\n",
              "<style scoped>\n",
              "    .dataframe tbody tr th:only-of-type {\n",
              "        vertical-align: middle;\n",
              "    }\n",
              "\n",
              "    .dataframe tbody tr th {\n",
              "        vertical-align: top;\n",
              "    }\n",
              "\n",
              "    .dataframe thead th {\n",
              "        text-align: right;\n",
              "    }\n",
              "</style>\n",
              "<table border=\"1\" class=\"dataframe\">\n",
              "  <thead>\n",
              "    <tr style=\"text-align: right;\">\n",
              "      <th></th>\n",
              "      <th>id</th>\n",
              "      <th>cat</th>\n",
              "      <th>name</th>\n",
              "      <th>author</th>\n",
              "      <th>series_t</th>\n",
              "      <th>sequence_i</th>\n",
              "      <th>genre_s</th>\n",
              "      <th>inStock</th>\n",
              "      <th>price</th>\n",
              "      <th>pages_i</th>\n",
              "    </tr>\n",
              "  </thead>\n",
              "  <tbody>\n",
              "    <tr>\n",
              "      <th>0</th>\n",
              "      <td>978-0641723445</td>\n",
              "      <td>book</td>\n",
              "      <td>The Lightning Thief</td>\n",
              "      <td>Rick Riordan</td>\n",
              "      <td>Percy Jackson and the Olympians</td>\n",
              "      <td>1</td>\n",
              "      <td>fantasy</td>\n",
              "      <td>True</td>\n",
              "      <td>12.50</td>\n",
              "      <td>384</td>\n",
              "    </tr>\n",
              "    <tr>\n",
              "      <th>1</th>\n",
              "      <td>978-1423103349</td>\n",
              "      <td>paperback</td>\n",
              "      <td>The Sea of Monsters</td>\n",
              "      <td>Rick Riordan</td>\n",
              "      <td>Percy Jackson and the Olympians</td>\n",
              "      <td>2</td>\n",
              "      <td>fantasy</td>\n",
              "      <td>True</td>\n",
              "      <td>6.49</td>\n",
              "      <td>304</td>\n",
              "    </tr>\n",
              "    <tr>\n",
              "      <th>2</th>\n",
              "      <td>978-1857995879</td>\n",
              "      <td>paperback</td>\n",
              "      <td>Sophie's World : The Greek Philosophers</td>\n",
              "      <td>Jostein Gaarder</td>\n",
              "      <td>None</td>\n",
              "      <td>1</td>\n",
              "      <td>fantasy</td>\n",
              "      <td>True</td>\n",
              "      <td>3.07</td>\n",
              "      <td>64</td>\n",
              "    </tr>\n",
              "    <tr>\n",
              "      <th>3</th>\n",
              "      <td>978-1923988177</td>\n",
              "      <td>paperback</td>\n",
              "      <td>Lucene in Action, Second Edition</td>\n",
              "      <td>Michael McCandless</td>\n",
              "      <td>None</td>\n",
              "      <td>1</td>\n",
              "      <td>IT</td>\n",
              "      <td>True</td>\n",
              "      <td>30.50</td>\n",
              "      <td>475</td>\n",
              "    </tr>\n",
              "    <tr>\n",
              "      <th>4</th>\n",
              "      <td>978-1933988077</td>\n",
              "      <td>paperback</td>\n",
              "      <td>Lucene in Action, Second Edition</td>\n",
              "      <td>Michael McCandless</td>\n",
              "      <td>None</td>\n",
              "      <td>1</td>\n",
              "      <td>IT</td>\n",
              "      <td>True</td>\n",
              "      <td>30.50</td>\n",
              "      <td>475</td>\n",
              "    </tr>\n",
              "    <tr>\n",
              "      <th>5</th>\n",
              "      <td>968-1933988177</td>\n",
              "      <td>paperback</td>\n",
              "      <td>Lucene in Action, Second Edition</td>\n",
              "      <td>Michael McCandless</td>\n",
              "      <td>None</td>\n",
              "      <td>1</td>\n",
              "      <td>IT</td>\n",
              "      <td>True</td>\n",
              "      <td>30.50</td>\n",
              "      <td>300</td>\n",
              "    </tr>\n",
              "    <tr>\n",
              "      <th>6</th>\n",
              "      <td>978-2933988077</td>\n",
              "      <td>paperback</td>\n",
              "      <td>Lucene in Action, Second Edition</td>\n",
              "      <td>Michael McCandless</td>\n",
              "      <td>None</td>\n",
              "      <td>1</td>\n",
              "      <td>IT</td>\n",
              "      <td>True</td>\n",
              "      <td>30.50</td>\n",
              "      <td>475</td>\n",
              "    </tr>\n",
              "  </tbody>\n",
              "</table>\n",
              "</div>\n",
              "    <div class=\"colab-df-buttons\">\n",
              "\n",
              "  <div class=\"colab-df-container\">\n",
              "    <button class=\"colab-df-convert\" onclick=\"convertToInteractive('df-21688fa7-c03d-442e-a4fc-ef325dfceb74')\"\n",
              "            title=\"Convert this dataframe to an interactive table.\"\n",
              "            style=\"display:none;\">\n",
              "\n",
              "  <svg xmlns=\"http://www.w3.org/2000/svg\" height=\"24px\" viewBox=\"0 -960 960 960\">\n",
              "    <path d=\"M120-120v-720h720v720H120Zm60-500h600v-160H180v160Zm220 220h160v-160H400v160Zm0 220h160v-160H400v160ZM180-400h160v-160H180v160Zm440 0h160v-160H620v160ZM180-180h160v-160H180v160Zm440 0h160v-160H620v160Z\"/>\n",
              "  </svg>\n",
              "    </button>\n",
              "\n",
              "  <style>\n",
              "    .colab-df-container {\n",
              "      display:flex;\n",
              "      gap: 12px;\n",
              "    }\n",
              "\n",
              "    .colab-df-convert {\n",
              "      background-color: #E8F0FE;\n",
              "      border: none;\n",
              "      border-radius: 50%;\n",
              "      cursor: pointer;\n",
              "      display: none;\n",
              "      fill: #1967D2;\n",
              "      height: 32px;\n",
              "      padding: 0 0 0 0;\n",
              "      width: 32px;\n",
              "    }\n",
              "\n",
              "    .colab-df-convert:hover {\n",
              "      background-color: #E2EBFA;\n",
              "      box-shadow: 0px 1px 2px rgba(60, 64, 67, 0.3), 0px 1px 3px 1px rgba(60, 64, 67, 0.15);\n",
              "      fill: #174EA6;\n",
              "    }\n",
              "\n",
              "    .colab-df-buttons div {\n",
              "      margin-bottom: 4px;\n",
              "    }\n",
              "\n",
              "    [theme=dark] .colab-df-convert {\n",
              "      background-color: #3B4455;\n",
              "      fill: #D2E3FC;\n",
              "    }\n",
              "\n",
              "    [theme=dark] .colab-df-convert:hover {\n",
              "      background-color: #434B5C;\n",
              "      box-shadow: 0px 1px 3px 1px rgba(0, 0, 0, 0.15);\n",
              "      filter: drop-shadow(0px 1px 2px rgba(0, 0, 0, 0.3));\n",
              "      fill: #FFFFFF;\n",
              "    }\n",
              "  </style>\n",
              "\n",
              "    <script>\n",
              "      const buttonEl =\n",
              "        document.querySelector('#df-21688fa7-c03d-442e-a4fc-ef325dfceb74 button.colab-df-convert');\n",
              "      buttonEl.style.display =\n",
              "        google.colab.kernel.accessAllowed ? 'block' : 'none';\n",
              "\n",
              "      async function convertToInteractive(key) {\n",
              "        const element = document.querySelector('#df-21688fa7-c03d-442e-a4fc-ef325dfceb74');\n",
              "        const dataTable =\n",
              "          await google.colab.kernel.invokeFunction('convertToInteractive',\n",
              "                                                    [key], {});\n",
              "        if (!dataTable) return;\n",
              "\n",
              "        const docLinkHtml = 'Like what you see? Visit the ' +\n",
              "          '<a target=\"_blank\" href=https://colab.research.google.com/notebooks/data_table.ipynb>data table notebook</a>'\n",
              "          + ' to learn more about interactive tables.';\n",
              "        element.innerHTML = '';\n",
              "        dataTable['output_type'] = 'display_data';\n",
              "        await google.colab.output.renderOutput(dataTable, element);\n",
              "        const docLink = document.createElement('div');\n",
              "        docLink.innerHTML = docLinkHtml;\n",
              "        element.appendChild(docLink);\n",
              "      }\n",
              "    </script>\n",
              "  </div>\n",
              "\n",
              "\n",
              "<div id=\"df-316d6fcb-237f-4d79-b2b7-e729780f54b1\">\n",
              "  <button class=\"colab-df-quickchart\" onclick=\"quickchart('df-316d6fcb-237f-4d79-b2b7-e729780f54b1')\"\n",
              "            title=\"Suggest charts\"\n",
              "            style=\"display:none;\">\n",
              "\n",
              "<svg xmlns=\"http://www.w3.org/2000/svg\" height=\"24px\"viewBox=\"0 0 24 24\"\n",
              "     width=\"24px\">\n",
              "    <g>\n",
              "        <path d=\"M19 3H5c-1.1 0-2 .9-2 2v14c0 1.1.9 2 2 2h14c1.1 0 2-.9 2-2V5c0-1.1-.9-2-2-2zM9 17H7v-7h2v7zm4 0h-2V7h2v10zm4 0h-2v-4h2v4z\"/>\n",
              "    </g>\n",
              "</svg>\n",
              "  </button>\n",
              "\n",
              "<style>\n",
              "  .colab-df-quickchart {\n",
              "      --bg-color: #E8F0FE;\n",
              "      --fill-color: #1967D2;\n",
              "      --hover-bg-color: #E2EBFA;\n",
              "      --hover-fill-color: #174EA6;\n",
              "      --disabled-fill-color: #AAA;\n",
              "      --disabled-bg-color: #DDD;\n",
              "  }\n",
              "\n",
              "  [theme=dark] .colab-df-quickchart {\n",
              "      --bg-color: #3B4455;\n",
              "      --fill-color: #D2E3FC;\n",
              "      --hover-bg-color: #434B5C;\n",
              "      --hover-fill-color: #FFFFFF;\n",
              "      --disabled-bg-color: #3B4455;\n",
              "      --disabled-fill-color: #666;\n",
              "  }\n",
              "\n",
              "  .colab-df-quickchart {\n",
              "    background-color: var(--bg-color);\n",
              "    border: none;\n",
              "    border-radius: 50%;\n",
              "    cursor: pointer;\n",
              "    display: none;\n",
              "    fill: var(--fill-color);\n",
              "    height: 32px;\n",
              "    padding: 0;\n",
              "    width: 32px;\n",
              "  }\n",
              "\n",
              "  .colab-df-quickchart:hover {\n",
              "    background-color: var(--hover-bg-color);\n",
              "    box-shadow: 0 1px 2px rgba(60, 64, 67, 0.3), 0 1px 3px 1px rgba(60, 64, 67, 0.15);\n",
              "    fill: var(--button-hover-fill-color);\n",
              "  }\n",
              "\n",
              "  .colab-df-quickchart-complete:disabled,\n",
              "  .colab-df-quickchart-complete:disabled:hover {\n",
              "    background-color: var(--disabled-bg-color);\n",
              "    fill: var(--disabled-fill-color);\n",
              "    box-shadow: none;\n",
              "  }\n",
              "\n",
              "  .colab-df-spinner {\n",
              "    border: 2px solid var(--fill-color);\n",
              "    border-color: transparent;\n",
              "    border-bottom-color: var(--fill-color);\n",
              "    animation:\n",
              "      spin 1s steps(1) infinite;\n",
              "  }\n",
              "\n",
              "  @keyframes spin {\n",
              "    0% {\n",
              "      border-color: transparent;\n",
              "      border-bottom-color: var(--fill-color);\n",
              "      border-left-color: var(--fill-color);\n",
              "    }\n",
              "    20% {\n",
              "      border-color: transparent;\n",
              "      border-left-color: var(--fill-color);\n",
              "      border-top-color: var(--fill-color);\n",
              "    }\n",
              "    30% {\n",
              "      border-color: transparent;\n",
              "      border-left-color: var(--fill-color);\n",
              "      border-top-color: var(--fill-color);\n",
              "      border-right-color: var(--fill-color);\n",
              "    }\n",
              "    40% {\n",
              "      border-color: transparent;\n",
              "      border-right-color: var(--fill-color);\n",
              "      border-top-color: var(--fill-color);\n",
              "    }\n",
              "    60% {\n",
              "      border-color: transparent;\n",
              "      border-right-color: var(--fill-color);\n",
              "    }\n",
              "    80% {\n",
              "      border-color: transparent;\n",
              "      border-right-color: var(--fill-color);\n",
              "      border-bottom-color: var(--fill-color);\n",
              "    }\n",
              "    90% {\n",
              "      border-color: transparent;\n",
              "      border-bottom-color: var(--fill-color);\n",
              "    }\n",
              "  }\n",
              "</style>\n",
              "\n",
              "  <script>\n",
              "    async function quickchart(key) {\n",
              "      const quickchartButtonEl =\n",
              "        document.querySelector('#' + key + ' button');\n",
              "      quickchartButtonEl.disabled = true;  // To prevent multiple clicks.\n",
              "      quickchartButtonEl.classList.add('colab-df-spinner');\n",
              "      try {\n",
              "        const charts = await google.colab.kernel.invokeFunction(\n",
              "            'suggestCharts', [key], {});\n",
              "      } catch (error) {\n",
              "        console.error('Error during call to suggestCharts:', error);\n",
              "      }\n",
              "      quickchartButtonEl.classList.remove('colab-df-spinner');\n",
              "      quickchartButtonEl.classList.add('colab-df-quickchart-complete');\n",
              "    }\n",
              "    (() => {\n",
              "      let quickchartButtonEl =\n",
              "        document.querySelector('#df-316d6fcb-237f-4d79-b2b7-e729780f54b1 button');\n",
              "      quickchartButtonEl.style.display =\n",
              "        google.colab.kernel.accessAllowed ? 'block' : 'none';\n",
              "    })();\n",
              "  </script>\n",
              "</div>\n",
              "    </div>\n",
              "  </div>\n"
            ],
            "application/vnd.google.colaboratory.intrinsic+json": {
              "type": "dataframe",
              "summary": "{\n  \"name\": \"duckdb\",\n  \"rows\": 7,\n  \"fields\": [\n    {\n      \"column\": \"id\",\n      \"properties\": {\n        \"dtype\": \"string\",\n        \"num_unique_values\": 7,\n        \"samples\": [\n          \"978-0641723445\",\n          \"978-1423103349\",\n          \"968-1933988177\"\n        ],\n        \"semantic_type\": \"\",\n        \"description\": \"\"\n      }\n    },\n    {\n      \"column\": \"cat\",\n      \"properties\": {\n        \"dtype\": \"category\",\n        \"num_unique_values\": 2,\n        \"samples\": [\n          \"paperback\",\n          \"book\"\n        ],\n        \"semantic_type\": \"\",\n        \"description\": \"\"\n      }\n    },\n    {\n      \"column\": \"name\",\n      \"properties\": {\n        \"dtype\": \"string\",\n        \"num_unique_values\": 4,\n        \"samples\": [\n          \"The Sea of Monsters\",\n          \"Lucene in Action, Second Edition\"\n        ],\n        \"semantic_type\": \"\",\n        \"description\": \"\"\n      }\n    },\n    {\n      \"column\": \"author\",\n      \"properties\": {\n        \"dtype\": \"category\",\n        \"num_unique_values\": 3,\n        \"samples\": [\n          \"Rick Riordan\",\n          \"Jostein Gaarder\"\n        ],\n        \"semantic_type\": \"\",\n        \"description\": \"\"\n      }\n    },\n    {\n      \"column\": \"series_t\",\n      \"properties\": {\n        \"dtype\": \"category\",\n        \"num_unique_values\": 1,\n        \"samples\": [\n          \"Percy Jackson and the Olympians\"\n        ],\n        \"semantic_type\": \"\",\n        \"description\": \"\"\n      }\n    },\n    {\n      \"column\": \"sequence_i\",\n      \"properties\": {\n        \"dtype\": \"number\",\n        \"std\": 0,\n        \"min\": 1,\n        \"max\": 2,\n        \"num_unique_values\": 2,\n        \"samples\": [\n          2\n        ],\n        \"semantic_type\": \"\",\n        \"description\": \"\"\n      }\n    },\n    {\n      \"column\": \"genre_s\",\n      \"properties\": {\n        \"dtype\": \"category\",\n        \"num_unique_values\": 2,\n        \"samples\": [\n          \"IT\"\n        ],\n        \"semantic_type\": \"\",\n        \"description\": \"\"\n      }\n    },\n    {\n      \"column\": \"inStock\",\n      \"properties\": {\n        \"dtype\": \"boolean\",\n        \"num_unique_values\": 1,\n        \"samples\": [\n          true\n        ],\n        \"semantic_type\": \"\",\n        \"description\": \"\"\n      }\n    },\n    {\n      \"column\": \"price\",\n      \"properties\": {\n        \"dtype\": \"number\",\n        \"std\": 12.6756998491865,\n        \"min\": 3.07,\n        \"max\": 30.5,\n        \"num_unique_values\": 4,\n        \"samples\": [\n          6.49\n        ],\n        \"semantic_type\": \"\",\n        \"description\": \"\"\n      }\n    },\n    {\n      \"column\": \"pages_i\",\n      \"properties\": {\n        \"dtype\": \"number\",\n        \"std\": 149,\n        \"min\": 64,\n        \"max\": 475,\n        \"num_unique_values\": 5,\n        \"samples\": [\n          304\n        ],\n        \"semantic_type\": \"\",\n        \"description\": \"\"\n      }\n    }\n  ]\n}"
            }
          },
          "metadata": {},
          "execution_count": 19
        }
      ]
    },
    {
      "cell_type": "code",
      "source": [
        "duckdb.sql('SELECT id, cat FROM books')"
      ],
      "metadata": {
        "colab": {
          "base_uri": "https://localhost:8080/"
        },
        "id": "1tDkE2EFae02",
        "outputId": "0db43a39-29ef-4745-e5f4-96b72b6dbc0b"
      },
      "execution_count": 20,
      "outputs": [
        {
          "output_type": "execute_result",
          "data": {
            "text/plain": [
              "┌────────────────┬───────────┐\n",
              "│       id       │    cat    │\n",
              "│    varchar     │  varchar  │\n",
              "├────────────────┼───────────┤\n",
              "│ 978-0641723445 │ book      │\n",
              "│ 978-1423103349 │ paperback │\n",
              "│ 978-1857995879 │ paperback │\n",
              "│ 978-1923988177 │ paperback │\n",
              "│ 978-1933988077 │ paperback │\n",
              "│ 968-1933988177 │ paperback │\n",
              "│ 978-2933988077 │ paperback │\n",
              "└────────────────┴───────────┘"
            ]
          },
          "metadata": {},
          "execution_count": 20
        }
      ]
    },
    {
      "cell_type": "code",
      "source": [
        "\"\"\"\n",
        "ฟังก์ชั่นนี้ไว้สำหรับนับจำนวนหนังสือ โดยผู้เขียนแต่ละคน\n",
        "\"\"\"\n",
        "duckdb.sql(\"\"\"SELECT count(*) as cnt, author\n",
        "            FROM books\n",
        "            GROUP BY author\n",
        "            ORDER BY cnt DESC\"\"\")"
      ],
      "metadata": {
        "colab": {
          "base_uri": "https://localhost:8080/"
        },
        "id": "WjRl2yXbaz_N",
        "outputId": "8aff74ee-2aff-42a4-fa58-e69eadf131e6"
      },
      "execution_count": 21,
      "outputs": [
        {
          "output_type": "execute_result",
          "data": {
            "text/plain": [
              "┌───────┬────────────────────┐\n",
              "│  cnt  │       author       │\n",
              "│ int64 │      varchar       │\n",
              "├───────┼────────────────────┤\n",
              "│     4 │ Michael McCandless │\n",
              "│     2 │ Rick Riordan       │\n",
              "│     1 │ Jostein Gaarder    │\n",
              "└───────┴────────────────────┘"
            ]
          },
          "metadata": {},
          "execution_count": 21
        }
      ]
    },
    {
      "cell_type": "code",
      "source": [
        "new_df = books.df()"
      ],
      "metadata": {
        "id": "R7cpMCoebvoR"
      },
      "execution_count": 22,
      "outputs": []
    },
    {
      "cell_type": "code",
      "source": [
        "type(new_df)"
      ],
      "metadata": {
        "colab": {
          "base_uri": "https://localhost:8080/",
          "height": 204
        },
        "id": "sLwrgrwEPEkS",
        "outputId": "5c26e9e0-d73c-40d4-9fd1-24429bbd5a04"
      },
      "execution_count": 23,
      "outputs": [
        {
          "output_type": "execute_result",
          "data": {
            "text/plain": [
              "pandas.core.frame.DataFrame"
            ],
            "text/html": [
              "<div style=\"max-width:800px; border: 1px solid var(--colab-border-color);\"><style>\n",
              "      pre.function-repr-contents {\n",
              "        overflow-x: auto;\n",
              "        padding: 8px 12px;\n",
              "        max-height: 500px;\n",
              "      }\n",
              "\n",
              "      pre.function-repr-contents.function-repr-contents-collapsed {\n",
              "        cursor: pointer;\n",
              "        max-height: 100px;\n",
              "      }\n",
              "    </style>\n",
              "    <pre style=\"white-space: initial; background:\n",
              "         var(--colab-secondary-surface-color); padding: 8px 12px;\n",
              "         border-bottom: 1px solid var(--colab-border-color);\"><b>pandas.core.frame.DataFrame</b><br/>def __init__(data=None, index: Axes | None=None, columns: Axes | None=None, dtype: Dtype | None=None, copy: bool | None=None) -&gt; None</pre><pre class=\"function-repr-contents function-repr-contents-collapsed\" style=\"\"><a class=\"filepath\" style=\"display:none\" href=\"#\">/usr/local/lib/python3.10/dist-packages/pandas/core/frame.py</a>Two-dimensional, size-mutable, potentially heterogeneous tabular data.\n",
              "\n",
              "Data structure also contains labeled axes (rows and columns).\n",
              "Arithmetic operations align on both row and column labels. Can be\n",
              "thought of as a dict-like container for Series objects. The primary\n",
              "pandas data structure.\n",
              "\n",
              "Parameters\n",
              "----------\n",
              "data : ndarray (structured or homogeneous), Iterable, dict, or DataFrame\n",
              "    Dict can contain Series, arrays, constants, dataclass or list-like objects. If\n",
              "    data is a dict, column order follows insertion-order. If a dict contains Series\n",
              "    which have an index defined, it is aligned by its index.\n",
              "\n",
              "    .. versionchanged:: 0.25.0\n",
              "       If data is a list of dicts, column order follows insertion-order.\n",
              "\n",
              "index : Index or array-like\n",
              "    Index to use for resulting frame. Will default to RangeIndex if\n",
              "    no indexing information part of input data and no index provided.\n",
              "columns : Index or array-like\n",
              "    Column labels to use for resulting frame when data does not have them,\n",
              "    defaulting to RangeIndex(0, 1, 2, ..., n). If data contains column labels,\n",
              "    will perform column selection instead.\n",
              "dtype : dtype, default None\n",
              "    Data type to force. Only a single dtype is allowed. If None, infer.\n",
              "copy : bool or None, default None\n",
              "    Copy data from inputs.\n",
              "    For dict data, the default of None behaves like ``copy=True``.  For DataFrame\n",
              "    or 2d ndarray input, the default of None behaves like ``copy=False``.\n",
              "    If data is a dict containing one or more Series (possibly of different dtypes),\n",
              "    ``copy=False`` will ensure that these inputs are not copied.\n",
              "\n",
              "    .. versionchanged:: 1.3.0\n",
              "\n",
              "See Also\n",
              "--------\n",
              "DataFrame.from_records : Constructor from tuples, also record arrays.\n",
              "DataFrame.from_dict : From dicts of Series, arrays, or dicts.\n",
              "read_csv : Read a comma-separated values (csv) file into DataFrame.\n",
              "read_table : Read general delimited file into DataFrame.\n",
              "read_clipboard : Read text from clipboard into DataFrame.\n",
              "\n",
              "Notes\n",
              "-----\n",
              "Please reference the :ref:`User Guide &lt;basics.dataframe&gt;` for more information.\n",
              "\n",
              "Examples\n",
              "--------\n",
              "Constructing DataFrame from a dictionary.\n",
              "\n",
              "&gt;&gt;&gt; d = {&#x27;col1&#x27;: [1, 2], &#x27;col2&#x27;: [3, 4]}\n",
              "&gt;&gt;&gt; df = pd.DataFrame(data=d)\n",
              "&gt;&gt;&gt; df\n",
              "   col1  col2\n",
              "0     1     3\n",
              "1     2     4\n",
              "\n",
              "Notice that the inferred dtype is int64.\n",
              "\n",
              "&gt;&gt;&gt; df.dtypes\n",
              "col1    int64\n",
              "col2    int64\n",
              "dtype: object\n",
              "\n",
              "To enforce a single dtype:\n",
              "\n",
              "&gt;&gt;&gt; df = pd.DataFrame(data=d, dtype=np.int8)\n",
              "&gt;&gt;&gt; df.dtypes\n",
              "col1    int8\n",
              "col2    int8\n",
              "dtype: object\n",
              "\n",
              "Constructing DataFrame from a dictionary including Series:\n",
              "\n",
              "&gt;&gt;&gt; d = {&#x27;col1&#x27;: [0, 1, 2, 3], &#x27;col2&#x27;: pd.Series([2, 3], index=[2, 3])}\n",
              "&gt;&gt;&gt; pd.DataFrame(data=d, index=[0, 1, 2, 3])\n",
              "   col1  col2\n",
              "0     0   NaN\n",
              "1     1   NaN\n",
              "2     2   2.0\n",
              "3     3   3.0\n",
              "\n",
              "Constructing DataFrame from numpy ndarray:\n",
              "\n",
              "&gt;&gt;&gt; df2 = pd.DataFrame(np.array([[1, 2, 3], [4, 5, 6], [7, 8, 9]]),\n",
              "...                    columns=[&#x27;a&#x27;, &#x27;b&#x27;, &#x27;c&#x27;])\n",
              "&gt;&gt;&gt; df2\n",
              "   a  b  c\n",
              "0  1  2  3\n",
              "1  4  5  6\n",
              "2  7  8  9\n",
              "\n",
              "Constructing DataFrame from a numpy ndarray that has labeled columns:\n",
              "\n",
              "&gt;&gt;&gt; data = np.array([(1, 2, 3), (4, 5, 6), (7, 8, 9)],\n",
              "...                 dtype=[(&quot;a&quot;, &quot;i4&quot;), (&quot;b&quot;, &quot;i4&quot;), (&quot;c&quot;, &quot;i4&quot;)])\n",
              "&gt;&gt;&gt; df3 = pd.DataFrame(data, columns=[&#x27;c&#x27;, &#x27;a&#x27;])\n",
              "...\n",
              "&gt;&gt;&gt; df3\n",
              "   c  a\n",
              "0  3  1\n",
              "1  6  4\n",
              "2  9  7\n",
              "\n",
              "Constructing DataFrame from dataclass:\n",
              "\n",
              "&gt;&gt;&gt; from dataclasses import make_dataclass\n",
              "&gt;&gt;&gt; Point = make_dataclass(&quot;Point&quot;, [(&quot;x&quot;, int), (&quot;y&quot;, int)])\n",
              "&gt;&gt;&gt; pd.DataFrame([Point(0, 0), Point(0, 3), Point(2, 3)])\n",
              "   x  y\n",
              "0  0  0\n",
              "1  0  3\n",
              "2  2  3</pre>\n",
              "      <script>\n",
              "      if (google.colab.kernel.accessAllowed && google.colab.files && google.colab.files.view) {\n",
              "        for (const element of document.querySelectorAll('.filepath')) {\n",
              "          element.style.display = 'block'\n",
              "          element.onclick = (event) => {\n",
              "            event.preventDefault();\n",
              "            event.stopPropagation();\n",
              "            google.colab.files.view(element.textContent, 475);\n",
              "          };\n",
              "        }\n",
              "      }\n",
              "      for (const element of document.querySelectorAll('.function-repr-contents')) {\n",
              "        element.onclick = (event) => {\n",
              "          event.preventDefault();\n",
              "          event.stopPropagation();\n",
              "          element.classList.toggle('function-repr-contents-collapsed');\n",
              "        };\n",
              "      }\n",
              "      </script>\n",
              "      </div>"
            ]
          },
          "metadata": {},
          "execution_count": 23
        }
      ]
    },
    {
      "cell_type": "code",
      "source": [
        "duckdb.sql(\"select * from new_df\")"
      ],
      "metadata": {
        "colab": {
          "base_uri": "https://localhost:8080/"
        },
        "id": "5WMJwWuaO-yp",
        "outputId": "ac9ca4d6-4f8f-4670-b8af-3177bcba3e70"
      },
      "execution_count": 24,
      "outputs": [
        {
          "output_type": "execute_result",
          "data": {
            "text/plain": [
              "┌────────────────┬───────────┬──────────────────────┬────────────────────┬───┬─────────┬─────────┬────────┬─────────┐\n",
              "│       id       │    cat    │         name         │       author       │ … │ genre_s │ inStock │ price  │ pages_i │\n",
              "│    varchar     │  varchar  │       varchar        │      varchar       │   │ varchar │ boolean │ double │  int64  │\n",
              "├────────────────┼───────────┼──────────────────────┼────────────────────┼───┼─────────┼─────────┼────────┼─────────┤\n",
              "│ 978-0641723445 │ book      │ The Lightning Thief  │ Rick Riordan       │ … │ fantasy │ true    │   12.5 │     384 │\n",
              "│ 978-1423103349 │ paperback │ The Sea of Monsters  │ Rick Riordan       │ … │ fantasy │ true    │   6.49 │     304 │\n",
              "│ 978-1857995879 │ paperback │ Sophie's World : T…  │ Jostein Gaarder    │ … │ fantasy │ true    │   3.07 │      64 │\n",
              "│ 978-1923988177 │ paperback │ Lucene in Action, …  │ Michael McCandless │ … │ IT      │ true    │   30.5 │     475 │\n",
              "│ 978-1933988077 │ paperback │ Lucene in Action, …  │ Michael McCandless │ … │ IT      │ true    │   30.5 │     475 │\n",
              "│ 968-1933988177 │ paperback │ Lucene in Action, …  │ Michael McCandless │ … │ IT      │ true    │   30.5 │     300 │\n",
              "│ 978-2933988077 │ paperback │ Lucene in Action, …  │ Michael McCandless │ … │ IT      │ true    │   30.5 │     475 │\n",
              "├────────────────┴───────────┴──────────────────────┴────────────────────┴───┴─────────┴─────────┴────────┴─────────┤\n",
              "│ 7 rows                                                                                       10 columns (8 shown) │\n",
              "└───────────────────────────────────────────────────────────────────────────────────────────────────────────────────┘"
            ]
          },
          "metadata": {},
          "execution_count": 24
        }
      ]
    },
    {
      "cell_type": "markdown",
      "source": [
        "ทดลองกับ Sample data ของ Colab"
      ],
      "metadata": {
        "id": "TWGdJbGYkiOt"
      }
    },
    {
      "cell_type": "code",
      "source": [
        "ans = duckdb.read_json(\"/content/sample_data/anscombe.json\")"
      ],
      "metadata": {
        "id": "poYgVOlZPDvF"
      },
      "execution_count": 25,
      "outputs": []
    },
    {
      "cell_type": "markdown",
      "source": [
        "# Write to file: เขียนไฟล์ออกเป็น Parquet , CSV"
      ],
      "metadata": {
        "id": "sP6yhz-JRcJC"
      }
    },
    {
      "cell_type": "code",
      "source": [
        "ans.to_parquet(\"ans1.parquet\")"
      ],
      "metadata": {
        "id": "K-nSRNy7QUse"
      },
      "execution_count": 26,
      "outputs": []
    },
    {
      "cell_type": "code",
      "source": [
        "duckdb.write_csv(ans.df(), \"ans.csv\")"
      ],
      "metadata": {
        "id": "ErfNh-8KPcts"
      },
      "execution_count": 27,
      "outputs": []
    },
    {
      "cell_type": "code",
      "source": [
        "ans = duckdb.read_csv(\"/content/ans.csv\").show()"
      ],
      "metadata": {
        "colab": {
          "base_uri": "https://localhost:8080/"
        },
        "id": "nMRDUTkuh1BB",
        "outputId": "3f4c69ac-e199-402a-8bcb-3ebcaadd40eb"
      },
      "execution_count": 30,
      "outputs": [
        {
          "output_type": "stream",
          "name": "stdout",
          "text": [
            "┌─────────┬────────┬────────┐\n",
            "│ Series  │   X    │   Y    │\n",
            "│ varchar │ double │ double │\n",
            "├─────────┼────────┼────────┤\n",
            "│ I       │   10.0 │   8.04 │\n",
            "│ I       │    8.0 │   6.95 │\n",
            "│ I       │   13.0 │   7.58 │\n",
            "│ I       │    9.0 │   8.81 │\n",
            "│ I       │   11.0 │   8.33 │\n",
            "│ I       │   14.0 │   9.96 │\n",
            "│ I       │    6.0 │   7.24 │\n",
            "│ I       │    4.0 │   4.26 │\n",
            "│ I       │   12.0 │  10.84 │\n",
            "│ I       │    7.0 │   4.81 │\n",
            "│ ·       │     ·  │     ·  │\n",
            "│ ·       │     ·  │     ·  │\n",
            "│ ·       │     ·  │     ·  │\n",
            "│ IV      │    8.0 │   5.76 │\n",
            "│ IV      │    8.0 │   7.71 │\n",
            "│ IV      │    8.0 │   8.84 │\n",
            "│ IV      │    8.0 │   8.47 │\n",
            "│ IV      │    8.0 │   7.04 │\n",
            "│ IV      │    8.0 │   5.25 │\n",
            "│ IV      │   19.0 │   12.5 │\n",
            "│ IV      │    8.0 │   5.56 │\n",
            "│ IV      │    8.0 │   7.91 │\n",
            "│ IV      │    8.0 │   6.89 │\n",
            "├─────────┴────────┴────────┤\n",
            "│    44 rows (20 shown)     │\n",
            "└───────────────────────────┘\n",
            "\n"
          ]
        }
      ]
    },
    {
      "cell_type": "code",
      "source": [
        "ans1 = duckdb.read_parquet(\"/content/ans1.parquet\").show()"
      ],
      "metadata": {
        "colab": {
          "base_uri": "https://localhost:8080/"
        },
        "id": "pN-t5_iKiExH",
        "outputId": "b1af5ab8-c06f-4fef-96e3-b9917a535116"
      },
      "execution_count": 33,
      "outputs": [
        {
          "output_type": "stream",
          "name": "stdout",
          "text": [
            "┌─────────┬────────┬────────┐\n",
            "│ Series  │   X    │   Y    │\n",
            "│ varchar │ double │ double │\n",
            "├─────────┼────────┼────────┤\n",
            "│ I       │   10.0 │   8.04 │\n",
            "│ I       │    8.0 │   6.95 │\n",
            "│ I       │   13.0 │   7.58 │\n",
            "│ I       │    9.0 │   8.81 │\n",
            "│ I       │   11.0 │   8.33 │\n",
            "│ I       │   14.0 │   9.96 │\n",
            "│ I       │    6.0 │   7.24 │\n",
            "│ I       │    4.0 │   4.26 │\n",
            "│ I       │   12.0 │  10.84 │\n",
            "│ I       │    7.0 │   4.81 │\n",
            "│ ·       │     ·  │     ·  │\n",
            "│ ·       │     ·  │     ·  │\n",
            "│ ·       │     ·  │     ·  │\n",
            "│ IV      │    8.0 │   5.76 │\n",
            "│ IV      │    8.0 │   7.71 │\n",
            "│ IV      │    8.0 │   8.84 │\n",
            "│ IV      │    8.0 │   8.47 │\n",
            "│ IV      │    8.0 │   7.04 │\n",
            "│ IV      │    8.0 │   5.25 │\n",
            "│ IV      │   19.0 │   12.5 │\n",
            "│ IV      │    8.0 │   5.56 │\n",
            "│ IV      │    8.0 │   7.91 │\n",
            "│ IV      │    8.0 │   6.89 │\n",
            "├─────────┴────────┴────────┤\n",
            "│    44 rows (20 shown)     │\n",
            "└───────────────────────────┘\n",
            "\n"
          ]
        }
      ]
    },
    {
      "cell_type": "code",
      "source": [],
      "metadata": {
        "id": "rgs3Dcs1iQr5"
      },
      "execution_count": null,
      "outputs": []
    }
  ]
}